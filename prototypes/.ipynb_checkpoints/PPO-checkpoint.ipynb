{
 "cells": [
  {
   "cell_type": "code",
   "execution_count": 47,
   "metadata": {},
   "outputs": [],
   "source": [
    "import gym\n",
    "import numpy as np\n",
    "from itertools import count\n",
    "from collections import namedtuple, deque\n",
    "import matplotlib.pyplot as plt\n",
    "import random\n",
    "import seaborn as sns\n",
    "\n",
    "import torch\n",
    "import torch.nn as nn\n",
    "import torch.nn.functional as F\n",
    "import torch.optim as optim\n",
    "from torch.distributions import Categorical\n",
    "\n",
    "def moving_average(x, N):\n",
    "    return np.convolve(x, np.ones(N, ), mode='valid') / N"
   ]
  },
  {
   "cell_type": "code",
   "execution_count": 40,
   "metadata": {},
   "outputs": [
    {
     "name": "stdout",
     "output_type": "stream",
     "text": [
      "Episode 99 finished after 120 timesteps\n",
      "Episode 199 finished after 186 timesteps\n",
      "Episode 299 finished after 210 timesteps\n",
      "Episode 399 finished after 101 timesteps\n",
      "Episode 499 finished after 112 timesteps\n"
     ]
    },
    {
     "data": {
      "text/plain": [
       "[<matplotlib.lines.Line2D at 0x1c3be50910>]"
      ]
     },
     "execution_count": 40,
     "metadata": {},
     "output_type": "execute_result"
    },
    {
     "data": {
      "image/png": "[encoded data removed]",
      "text/plain": [
       "<Figure size 432x288 with 1 Axes>"
      ]
     },
     "metadata": {
      "needs_background": "light"
     },
     "output_type": "display_data"
    }
   ],
   "source": [
    "class Policy(nn.Module):\n",
    "    def __init__(self):\n",
    "        super(Policy, self).__init__()\n",
    "        self.affine1 = nn.Linear(4, 128)\n",
    "        self.action_head = nn.Linear(128, 2)\n",
    "        self.value_head = nn.Linear(128, 1)\n",
    "\n",
    "        self.saved_actions = []\n",
    "        self.rewards = []\n",
    "        self.dones = []\n",
    "\n",
    "    def forward(self, x):\n",
    "        x = F.relu(self.affine1(x))\n",
    "        action_scores = self.action_head(x)\n",
    "        state_values = self.value_head(x)\n",
    "        return F.softmax(action_scores, dim=-1), state_values\n",
    "\n",
    "SavedAction = namedtuple('SavedAction', ['log_prob', 'value'])\n",
    "\n",
    "policy = Policy()\n",
    "optimizer = optim.RMSprop(policy.parameters(), lr=3e-3)\n",
    "eps = np.finfo(np.float32).eps.item()\n",
    "\n",
    "def select_action(state):\n",
    "    state = torch.from_numpy(state).float()\n",
    "    probs, state_value = policy(state)\n",
    "    m = Categorical(probs)\n",
    "    action = m.sample()\n",
    "    policy.saved_actions.append(SavedAction(m.log_prob(action), state_value))\n",
    "    return action.item()\n",
    "\n",
    "\"GIVEN rewards array from rollout return the returns with zero mean and unit std\"        \n",
    "def discount_rewards(rewards_arr, dones, gamma, final_value=0):\n",
    "    R = final_value\n",
    "    returns = []\n",
    "    zipped = list(zip(rewards_arr, dones))\n",
    "    for (r, done) in zipped[::-1]:\n",
    "        if done:\n",
    "            R = 0\n",
    "        R = r + R*gamma\n",
    "        returns.insert(0, R)\n",
    "#     print('rewards_arr', rewards_arr)\n",
    "    returns = torch.tensor(returns)\n",
    "    return (returns - returns.mean())/(returns.std() + eps)\n",
    "\n",
    "def train_on_rollout(gamma=0.99):\n",
    "    returns = discount_rewards(policy.rewards, gamma)\n",
    "    actor_loss = []\n",
    "    critic_loss = []\n",
    "    for (log_prob, value), r in zip(policy.saved_actions, returns):\n",
    "        advantage = r - value.item()\n",
    "        actor_loss.append(-log_prob * advantage)\n",
    "        critic_loss.append(F.smooth_l1_loss(value, torch.tensor([r])))\n",
    "    optimizer.zero_grad()\n",
    "    loss = torch.stack(actor_loss).sum() + torch.stack(critic_loss).sum()\n",
    "    loss.backward()\n",
    "    optimizer.step()\n",
    "    del policy.rewards[:]\n",
    "    del policy.saved_actions[:]\n",
    "    \n",
    "def train_on_batch(gamma=0.99, final_obs=None, done=True):\n",
    "    state = torch.from_numpy(final_obs).float()\n",
    "    _, state_value = policy(state)\n",
    "    final_value = state_value.detach() if not done else 0.0\n",
    "    \n",
    "    returns = discount_rewards(policy.rewards, policy.dones, gamma, final_value)\n",
    "    actor_loss = []\n",
    "    critic_loss = []\n",
    "    for (log_prob, value), r in zip(policy.saved_actions, returns):\n",
    "        advantage = r - value.item()\n",
    "        actor_loss.append(-log_prob * advantage)\n",
    "        critic_loss.append(F.smooth_l1_loss(value, torch.tensor([r])))\n",
    "    optimizer.zero_grad()\n",
    "    loss = torch.stack(actor_loss).sum() + torch.stack(critic_loss).sum()\n",
    "    loss.mean().backward()\n",
    "    optimizer.step()\n",
    "    del policy.rewards[:]\n",
    "    del policy.saved_actions[:]\n",
    "    del policy.dones[:]\n",
    "\n",
    "def learn_episodic_A2C(N_eps=500, max_ep_steps=500):\n",
    "    df = 0.99\n",
    "    rewards = []\n",
    "    env = gym.make('CartPole-v0')\n",
    "    env._max_episode_steps = max_ep_steps\n",
    "    T = 0\n",
    "    batch_update_freq = 30\n",
    "\n",
    "    for i_episode in range(N_eps):\n",
    "        observation = env.reset()\n",
    "        total_r = 0\n",
    "        for t in range(100000):\n",
    "            T += 1\n",
    "            action = select_action(observation)\n",
    "            observation, reward, done, info = env.step(action)\n",
    "            policy.rewards.append(reward)\n",
    "            policy.dones.append(done)\n",
    "            total_r += reward\n",
    "            if T % batch_update_freq == 0:\n",
    "                train_on_batch(0.99, observation, done=True)\n",
    "            if done:\n",
    "#                 train_on_batch(0.99, observation, done)\n",
    "                if (i_episode + 1) % 100 == 0:                \n",
    "                    print(\"Episode {} finished after {} timesteps\".format(i_episode, t+1))\n",
    "                break\n",
    "        rewards.append(total_r)\n",
    "    env.close()\n",
    "    return rewards\n",
    "N_EPS = 1500\n",
    "rewards_A2C = learn_n_step_A2C(N_EPS, 500)\n",
    "plt.plot(rewards_A2C)"
   ]
  },
  {
   "cell_type": "markdown",
   "metadata": {},
   "source": [
    "PPO:"
   ]
  },
  {
   "cell_type": "markdown",
   "metadata": {},
   "source": [
    "<img src=\"./asd.png\" style=\"width: 70%\"> </img>"
   ]
  },
  {
   "cell_type": "code",
   "execution_count": 45,
   "metadata": {},
   "outputs": [
    {
     "name": "stdout",
     "output_type": "stream",
     "text": [
      "Episode 99 finished after 26 timesteps\n",
      "Episode 199 finished after 343 timesteps\n",
      "Episode 299 finished after 268 timesteps\n",
      "Episode 399 finished after 232 timesteps\n",
      "Episode 499 finished after 148 timesteps\n",
      "Episode 599 finished after 172 timesteps\n",
      "Episode 699 finished after 464 timesteps\n",
      "Episode 799 finished after 242 timesteps\n",
      "Episode 899 finished after 500 timesteps\n",
      "Episode 999 finished after 500 timesteps\n",
      "Episode 1099 finished after 500 timesteps\n",
      "Episode 1199 finished after 500 timesteps\n",
      "Episode 1299 finished after 500 timesteps\n",
      "Episode 1399 finished after 500 timesteps\n",
      "Episode 1499 finished after 500 timesteps\n"
     ]
    },
    {
     "data": {
      "text/plain": [
       "[<matplotlib.lines.Line2D at 0x1a22907490>]"
      ]
     },
     "execution_count": 45,
     "metadata": {},
     "output_type": "execute_result"
    },
    {
     "data": {
      "image/png": "[encoded data removed]",
      "text/plain": [
       "<Figure size 432x288 with 1 Axes>"
      ]
     },
     "metadata": {
      "needs_background": "light"
     },
     "output_type": "display_data"
    }
   ],
   "source": [
    "class Policy(nn.Module):\n",
    "    def __init__(self):\n",
    "        super(Policy, self).__init__()\n",
    "        self.affine1 = nn.Linear(4, 128)\n",
    "        self.action_head = nn.Linear(128, 2)\n",
    "        self.value_head = nn.Linear(128, 1)\n",
    "\n",
    "        self.actions = []\n",
    "        self.logprobs = []\n",
    "        self.rewards = []\n",
    "        self.dones = []\n",
    "        self.states = []\n",
    "\n",
    "    def forward(self, x):\n",
    "        x = F.relu(self.affine1(x))\n",
    "        action_scores = self.action_head(x)\n",
    "        state_values = self.value_head(x)\n",
    "        return F.softmax(action_scores, dim=-1), state_values.squeeze()\n",
    "\n",
    "policy = Policy()\n",
    "policy_old = Policy()\n",
    "policy_old.load_state_dict(policy.state_dict())\n",
    "\n",
    "optimizer = optim.RMSprop(policy.parameters(), lr=3e-3)\n",
    "eps = np.finfo(np.float32).eps.item()\n",
    "\n",
    "def select_action(state):\n",
    "    state = torch.from_numpy(state).float()\n",
    "    probs, state_value = policy_old(state)\n",
    "    m = Categorical(probs)\n",
    "    action = m.sample()\n",
    "    policy.actions.append(action.item())\n",
    "    policy.logprobs.append(m.log_prob(action).item())\n",
    "    policy.states.append(state)\n",
    "#     policy.saved_actions.append(SavedAction(m.log_prob(action), state_value))\n",
    "    return action.item()\n",
    "\n",
    "\"GIVEN rewards array from rollout return the returns with zero mean and unit std\"        \n",
    "def discount_rewards(rewards_arr, dones, gamma, final_value=0):\n",
    "    R = final_value\n",
    "    returns = []\n",
    "    zipped = list(zip(rewards_arr, dones))\n",
    "    for (r, done) in zipped[::-1]:\n",
    "        if done:\n",
    "            R = 0\n",
    "        R = r + R*gamma\n",
    "        returns.insert(0, R)\n",
    "    returns = torch.tensor(returns)\n",
    "    return (returns - returns.mean())/(returns.std() + eps)\n",
    "\n",
    "def evaluate_policy(states, old_actions):\n",
    "    probs, values = policy.forward\n",
    "\n",
    "def batch_update_agent(gamma=0.99, final_obs=None, done=True):\n",
    "    state = torch.from_numpy(final_obs).float()\n",
    "    _, state_value = policy(state)\n",
    "    final_value = state_value.detach() if not done else 0.0\n",
    "    returns = discount_rewards(policy.rewards, policy.dones, gamma, final_value)\n",
    "    \n",
    "    states = torch.stack(policy.states).float()\n",
    "#     print(states.shape)\n",
    "    old_actions = policy.actions\n",
    "#     print(old_actions)\n",
    "    old_logprobs = torch.tensor(policy.logprobs).float()\n",
    "#     print(old_logprobs.shape)\n",
    "    \n",
    "    # PPO OLD VALUES\n",
    "    for i in range(2):\n",
    "        # Calculate needed values    \n",
    "        p, v = policy.forward(states)\n",
    "        m = Categorical(p)\n",
    "        c = m.log_prob(torch.tensor(old_actions))\n",
    "        entr = m.entropy()\n",
    "\n",
    "        # value fn loss\n",
    "        loss_vf = F.mse_loss(v, returns)\n",
    "\n",
    "        # surrogate loss\n",
    "        advantage = returns - v.detach()\n",
    "        r_ts = torch.exp(c - old_logprobs)\n",
    "        loss_surr = - (torch.min(r_ts * advantage, torch.clamp(r_ts, 1-0.2, 1+0.2) * advantage)).mean()\n",
    "        \n",
    "        # maximize entropy bonus\n",
    "        loss_entropy = - 0.0001 * entr.mean()\n",
    "\n",
    "        # the total_loss\n",
    "        loss_total = loss_vf + loss_surr + loss_entropy\n",
    "        \n",
    "        # step\n",
    "        optimizer.zero_grad()\n",
    "        loss_total.backward()\n",
    "        optimizer.step()\n",
    "#         raise Exception('1111')\n",
    "\n",
    "    policy_old.load_state_dict(policy.state_dict())    \n",
    "    \n",
    "    del policy.actions[:]\n",
    "    del policy.states[:]\n",
    "    del policy.logprobs[:]\n",
    "    del policy.rewards[:]\n",
    "    del policy.dones[:]\n",
    "\n",
    "def learn_PPO_single_threaded(N_eps=500, max_ep_steps=500):\n",
    "    df = 0.99\n",
    "    rewards = []\n",
    "    env = gym.make('CartPole-v0')\n",
    "    env._max_episode_steps = max_ep_steps\n",
    "    T = 0\n",
    "    batch_update_freq = 300\n",
    "\n",
    "    for i_episode in range(N_eps):\n",
    "        observation = env.reset()\n",
    "        total_r = 0\n",
    "        for t in range(100000):\n",
    "            T += 1\n",
    "            action = select_action(observation)\n",
    "            observation, reward, done, info = env.step(action)\n",
    "            policy.rewards.append(reward)\n",
    "            policy.dones.append(done)\n",
    "            total_r += reward\n",
    "            if T % batch_update_freq == 0:\n",
    "                batch_update_agent(0.99, observation, done=True)\n",
    "            if done:\n",
    "#                 train_on_batch(0.99, observation, done)\n",
    "                if (i_episode + 1) % 100 == 0:                \n",
    "                    print(\"Episode {} finished after {} timesteps\".format(i_episode, t+1))\n",
    "                break\n",
    "        rewards.append(total_r)\n",
    "    env.close()\n",
    "    return rewards\n",
    "\n",
    "N_EPS =500\n",
    "rewards_PPO = learn_PPO_single_threaded(N_EPS*3, 500)\n",
    "plt.plot(rewards_PPO)"
   ]
  },
  {
   "cell_type": "code",
   "execution_count": 51,
   "metadata": {},
   "outputs": [
    {
     "data": {
      "text/plain": [
       "[<matplotlib.lines.Line2D at 0x1a22a71bd0>]"
      ]
     },
     "execution_count": 51,
     "metadata": {},
     "output_type": "execute_result"
    },
    {
     "data": {
      "image/png": "[encoded data removed]",
      "text/plain": [
       "<Figure size 432x288 with 1 Axes>"
      ]
     },
     "metadata": {
      "needs_background": "light"
     },
     "output_type": "display_data"
    }
   ],
   "source": [
    "plt.plot(moving_average(rewards_PPO, 500))"
   ]
  },
  {
   "cell_type": "markdown",
   "metadata": {},
   "source": [
    "### TODO\n",
    "\n",
    "try to train the model on r + V(x') - V(x) advantage"
   ]
  }
 ],
 "metadata": {
  "kernelspec": {
   "display_name": "gym",
   "language": "python",
   "name": "gym"
  },
  "language_info": {
   "codemirror_mode": {
    "name": "ipython",
    "version": 3
   },
   "file_extension": ".py",
   "mimetype": "text/x-python",
   "name": "python",
   "nbconvert_exporter": "python",
   "pygments_lexer": "ipython3",
   "version": "3.7.5"
  }
 },
 "nbformat": 4,
 "nbformat_minor": 4
}
